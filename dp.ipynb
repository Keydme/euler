{
 "cells": [
  {
   "cell_type": "code",
   "execution_count": 5,
   "metadata": {},
   "outputs": [],
   "source": [
    "import random\n",
    "import scipy\n",
    "import matplotlib.pyplot as plt\n",
    "import numpy as np"
   ]
  },
  {
   "cell_type": "code",
   "execution_count": 16,
   "metadata": {},
   "outputs": [
    {
     "data": {
      "image/png": "[encoded data removed]",
      "text/plain": [
       "<Figure size 640x480 with 1 Axes>"
      ]
     },
     "metadata": {},
     "output_type": "display_data"
    }
   ],
   "source": [
    "random.seed(1)\n",
    "p = []\n",
    "for i in range(10):\n",
    "    p.append(np.array([random.random(),random.random()]))\n",
    "p =np.array(p)\n",
    "for i in p:\n",
    "    plt.plot(*i,'o')"
   ]
  },
  {
   "cell_type": "code",
   "execution_count": 66,
   "metadata": {},
   "outputs": [
    {
     "ename": "TypeError",
     "evalue": "'point' object is not iterable",
     "output_type": "error",
     "traceback": [
      "\u001b[1;31m---------------------------------------------------------------------------\u001b[0m",
      "\u001b[1;31mTypeError\u001b[0m                                 Traceback (most recent call last)",
      "Cell \u001b[1;32mIn[66], line 15\u001b[0m\n\u001b[0;32m     13\u001b[0m p1 \u001b[38;5;241m=\u001b[39m point(\u001b[38;5;241m*\u001b[39m[\u001b[38;5;241m2\u001b[39m,\u001b[38;5;241m3\u001b[39m],\u001b[38;5;28mnext\u001b[39m \u001b[38;5;241m=\u001b[39m p)\n\u001b[0;32m     14\u001b[0m m \u001b[38;5;241m=\u001b[39m [\u001b[38;5;241m9\u001b[39m,\u001b[38;5;241m9\u001b[39m,np\u001b[38;5;241m.\u001b[39minf]\n\u001b[1;32m---> 15\u001b[0m \u001b[38;5;28;01mfor\u001b[39;00m i \u001b[38;5;129;01min\u001b[39;00m p:\n\u001b[0;32m     16\u001b[0m     \u001b[38;5;28;01mfor\u001b[39;00m j \u001b[38;5;129;01min\u001b[39;00m p:\n\u001b[0;32m     17\u001b[0m         dis \u001b[38;5;241m=\u001b[39m \u001b[38;5;28msum\u001b[39m((i\u001b[38;5;241m-\u001b[39mj)\u001b[38;5;241m*\u001b[39m\u001b[38;5;241m*\u001b[39m\u001b[38;5;241m2\u001b[39m)\n",
      "\u001b[1;31mTypeError\u001b[0m: 'point' object is not iterable"
     ]
    }
   ],
   "source": [
    "class point:\n",
    "    def __init__(self,*p,next):\n",
    "        self.x,self.y = p\n",
    "        self.next = next\n",
    "    def distance(self):\n",
    "        if self.next == None:\n",
    "            return None\n",
    "        return np.sqrt((self.x-self.next.x)**2+(self.y-self.next.y)**2)\n",
    "    def __repr__(self):\n",
    "        return str([self.x,self.y,self.next])\n",
    "\n",
    "p = point(*[1,2],next = None)\n",
    "p1 = point(*[2,3],next = p)\n",
    "m = [9,9,np.inf]\n",
    "for i in p:\n",
    "    for j in p:\n",
    "        dis = sum((i-j)**2)"
   ]
  },
  {
   "cell_type": "code",
   "execution_count": 67,
   "metadata": {},
   "outputs": [
    {
     "data": {
      "text/plain": [
       "2"
      ]
     },
     "execution_count": 67,
     "metadata": {},
     "output_type": "execute_result"
    }
   ],
   "source": [
    "p1.distance()"
   ]
  }
 ],
 "metadata": {
  "kernelspec": {
   "display_name": "Python 3",
   "language": "python",
   "name": "python3"
  },
  "language_info": {
   "codemirror_mode": {
    "name": "ipython",
    "version": 3
   },
   "file_extension": ".py",
   "mimetype": "text/x-python",
   "name": "python",
   "nbconvert_exporter": "python",
   "pygments_lexer": "ipython3",
   "version": "3.11.1"
  }
 },
 "nbformat": 4,
 "nbformat_minor": 2
}
